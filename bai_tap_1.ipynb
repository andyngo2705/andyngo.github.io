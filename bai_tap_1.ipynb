{
  "nbformat": 4,
  "nbformat_minor": 0,
  "metadata": {
    "colab": {
      "provenance": [],
      "toc_visible": true,
      "authorship_tag": "ABX9TyPdiCTDYe4YKjOWEll8cd7k",
      "include_colab_link": true
    },
    "kernelspec": {
      "name": "python3",
      "display_name": "Python 3"
    },
    "language_info": {
      "name": "python"
    }
  },
  "cells": [
    {
      "cell_type": "markdown",
      "metadata": {
        "id": "view-in-github",
        "colab_type": "text"
      },
      "source": [
        "<a href=\"https://colab.research.google.com/github/andyngo2705/andyngo.github.io/blob/main/bai_tap_1.ipynb\" target=\"_parent\"><img src=\"https://colab.research.google.com/assets/colab-badge.svg\" alt=\"Open In Colab\"/></a>"
      ]
    },
    {
      "cell_type": "code",
      "execution_count": 1,
      "metadata": {
        "colab": {
          "base_uri": "https://localhost:8080/"
        },
        "id": "_f_7OuDtmijN",
        "outputId": "d426d498-7f63-4e42-e7fd-213a4ac613b3"
      },
      "outputs": [
        {
          "output_type": "stream",
          "name": "stdout",
          "text": [
            "140.71\n"
          ]
        }
      ],
      "source": [
        "pv = 100\n",
        "interest = 0.05\n",
        "n=7\n",
        "fv = pv * (1+interest)**n\n",
        "print(round(fv,2))"
      ]
    },
    {
      "cell_type": "markdown",
      "source": [
        "Pratising bai 2"
      ],
      "metadata": {
        "id": "ogaVQ5mToY1j"
      }
    },
    {
      "cell_type": "code",
      "source": [
        "score = 80\n",
        "if score >= 60:\n",
        "    print('Pass')"
      ],
      "metadata": {
        "colab": {
          "base_uri": "https://localhost:8080/"
        },
        "id": "mhMfX4A2ohTx",
        "outputId": "5b84f974-687b-4ca8-875b-3450eabe9ebc"
      },
      "execution_count": 3,
      "outputs": [
        {
          "output_type": "stream",
          "name": "stdout",
          "text": [
            "Pass\n"
          ]
        }
      ]
    },
    {
      "cell_type": "code",
      "source": [],
      "metadata": {
        "id": "WheQErDro-6H"
      },
      "execution_count": null,
      "outputs": []
    },
    {
      "cell_type": "code",
      "source": [
        "score = 80\n",
        "if score >= 60:\n",
        " print('Pass')"
      ],
      "metadata": {
        "colab": {
          "base_uri": "https://localhost:8080/"
        },
        "outputId": "9e850fae-6a1b-4fe6-f192-8b2c760a0d78",
        "id": "O3ul4k81o_Lw"
      },
      "execution_count": 8,
      "outputs": [
        {
          "output_type": "stream",
          "name": "stdout",
          "text": [
            "Pass\n"
          ]
        }
      ]
    },
    {
      "cell_type": "code",
      "source": [
        "#Python Variables\n",
        "x = 2\n",
        "price = 2.5\n",
        "word = 'Hello'\n",
        "word='''HI'''\n",
        "print(x,price,word)\n",
        "print(f'x = {x,type(x)}, price={price,type(price), word={word,type{word}}})\n",
        "\n"
      ],
      "metadata": {
        "colab": {
          "base_uri": "https://localhost:8080/"
        },
        "id": "Gl5lmsyupJEO",
        "outputId": "33bf27c1-215f-43d6-d167-593782960743"
      },
      "execution_count": 9,
      "outputs": [
        {
          "output_type": "stream",
          "name": "stdout",
          "text": [
            "2 2.5 HI\n"
          ]
        }
      ]
    }
  ]
}